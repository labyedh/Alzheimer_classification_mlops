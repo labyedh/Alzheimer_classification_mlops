{
 "cells": [
  {
   "cell_type": "code",
   "execution_count": null,
   "metadata": {
    "_cell_guid": "b1076dfc-b9ad-4769-8c92-a6c4dae69d19",
    "_uuid": "8f2839f25d086af736a60e9eeb907d3b93b6e0e5",
    "trusted": true
   },
   "outputs": [],
   "source": [
    "import os\n",
    "import base64\n",
    "from kaggle_secrets import UserSecretsClient\n",
    "\n",
    "# 1. Retrieve secrets from Kaggle's secret manager\n",
    "user_secrets = UserSecretsClient()\n",
    "git_key_b64 = user_secrets.get_secret(\"GIT_DEPLOY_KEY_B64\")\n",
    "gdrive_creds_b64 = user_secrets.get_secret(\"GDRIVE_CREDENTIALS_DATA_B64\")\n",
    "\n",
    "# 2. Set secrets as environment variables for the shell script to use\n",
    "os.environ['GIT_DEPLOY_KEY_B64'] = git_key_b64\n",
    "os.environ['GDRIVE_CREDENTIALS_DATA_B64'] = gdrive_creds_b64\n",
    "\n",
    "# 3. Run the master shell script\n",
    "# This ensures all commands are executed within the /kaggle/working/ directory\n",
    "!bash /kaggle/working/run_pipeline.sh"
   ]
  }
 ],
 "metadata": {
  "kaggle": {
   "accelerator": "nvidiaTeslaT4",
   "dataSources": [],
   "isGpuEnabled": true,
   "isInternetEnabled": true,
   "language": "python",
   "sourceType": "notebook"
  },
  "kernelspec": {
   "display_name": "Python 3",
   "language": "python",
   "name": "python3"
  },
  "language_info": {
   "codemirror_mode": {
    "name": "ipython",
    "version": 3
   },
   "file_extension": ".py",
   "mimetype": "text/x-python",
   "name": "python",
   "nbconvert_exporter": "python",
   "pygments_lexer": "ipython3",
   "version": "3.6.4"
  }
 },
 "nbformat": 4,
 "nbformat_minor": 4
}
