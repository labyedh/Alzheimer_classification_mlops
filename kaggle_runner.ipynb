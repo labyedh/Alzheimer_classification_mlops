{
 "cells": [
  {
   "cell_type": "code",
   "execution_count": null,
   "metadata": {
    "_cell_guid": "b1076dfc-b9ad-4769-8c92-a6c4dae69d19",
    "_uuid": "8f2839f25d086af736a60e9eeb907d3b93b6e0e5",
    "trusted": true
   },
   "outputs": [],
   "source": [
    "# ===================================================================\n",
    "# CELL 1: SETUP SECRETS AND EXECUTE PIPELINE\n",
    "# ===================================================================\n",
    "import os\n",
    "import base64\n",
    "from kaggle_secrets import UserSecretsClient\n",
    "\n",
    "print(\"--- 1. Setting up secrets and environment ---\")\n",
    "user_secrets = UserSecretsClient()\n",
    "os.environ['GIT_DEPLOY_KEY_B64'] = user_secrets.get_secret(\"GIT_DEPLOY_KEY_B64\")\n",
    "os.environ['GDRIVE_CREDENTIALS_DATA_B64'] = user_secrets.get_secret(\"GDRIVE_CREDENTIALS_DATA_B64\")\n",
    "\n",
    "# --- 2. Set up SSH for Git ---\n",
    "ssh_dir = \"/root/.ssh\"\n",
    "os.makedirs(ssh_dir, exist_ok=True)\n",
    "key_path = os.path.join(ssh_dir, \"id_ed25519\")\n",
    "with open(key_path, \"w\") as f:\n",
    "    f.write(base64.b64decode(os.environ['GIT_DEPLOY_KEY_B64']).decode() + '\\n')\n",
    "os.chmod(key_path, 0o600)\n",
    "!ssh-keyscan github.com >> /root/.ssh/known_hosts\n",
    "\n",
    "# --- 3. Clone Git Repository using SSH ---\n",
    "print(\"\\n--- 2. Cloning repository via SSH ---\")\n",
    "GIT_REPO_URL = \"git@github.com:labyedh/Alzheimer_classification_mlops.git\"\n",
    "PROJECT_DIR = \"Alzheimer_classification_mlops\"\n",
    "!rm -rf {PROJECT_DIR}\n",
    "!git clone {GIT_REPO_URL}\n",
    "%cd {PROJECT_DIR}\n",
    "\n",
    "# --- 4. Execute the pipeline script ---\n",
    "print(f\"\\n--- 3. Executing pipeline script in {os.getcwd()} ---\")\n",
    "!chmod +x run_pipeline.sh\n",
    "!./run_pipeline.sh"
   ]
  }
 ],
 "metadata": {
  "kaggle": {
   "accelerator": "nvidiaTeslaT4",
   "dataSources": [],
   "isGpuEnabled": true,
   "isInternetEnabled": true,
   "language": "python",
   "sourceType": "notebook"
  },
  "kernelspec": {
   "display_name": "Python 3",
   "language": "python",
   "name": "python3"
  },
  "language_info": {
   "codemirror_mode": {
    "name": "ipython",
    "version": 3
   },
   "file_extension": ".py",
   "mimetype": "text/x-python",
   "name": "python",
   "nbconvert_exporter": "python",
   "pygments_lexer": "ipython3",
   "version": "3.6.4"
  }
 },
 "nbformat": 4,
 "nbformat_minor": 4
}
