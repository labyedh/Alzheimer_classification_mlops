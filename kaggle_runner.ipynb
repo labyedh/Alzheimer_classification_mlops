{
 "cells": [
  {
   "cell_type": "code",
   "execution_count": null,
   "metadata": {
    "_cell_guid": "b1076dfc-b9ad-4769-8c92-a6c4dae69d19",
    "_uuid": "8f2839f25d086af736a60e9eeb907d3b93b6e0e5",
    "trusted": true
   },
   "outputs": [],
   "source": [
    "# Install all project dependencies\n",
    "!pip install -r requirements.txt -q\n",
    "\n",
    "# Import necessary libraries\n",
    "import os\n",
    "import base64\n",
    "from kaggle_secrets import UserSecretsClient\n",
    "\n",
    "# --- 1. Set up SSH for pushing to GitHub ---\n",
    "print(\"--- Setting up SSH for GitHub ---\")\n",
    "user_secrets = UserSecretsClient()\n",
    "git_key_b64 = user_secrets.get_secret(\"GIT_DEPLOY_KEY_B64\")\n",
    "\n",
    "ssh_dir = \"/root/.ssh\"\n",
    "os.makedirs(ssh_dir, exist_ok=True)\n",
    "key_path = os.path.join(ssh_dir, \"id_ed25519\")\n",
    "with open(key_path, \"w\") as f:\n",
    "    f.write(base64.b64decode(git_key_b64).decode())\n",
    "os.chmod(key_path, 0o600)\n",
    "!ssh-keyscan github.com >> /root/.ssh/known_hosts\n",
    "\n",
    "# --- 2. Configure Git ---\n",
    "!git config --global user.name \"Kaggle CI Runner\"\n",
    "!git config --global user.email \"action@github.com\"\n",
    "# --- IMPORTANT: Use YOUR repository's SSH URL here ---\n",
    "GIT_REPO_URL = \"git@github.com:labyedh/Alzheimer_classification_mlops.git\"\n",
    "!git remote set-url origin {GIT_REPO_URL}\n",
    "\n",
    "# --- 3. Set up DVC Credentials ---\n",
    "print(\"\\n--- Setting up DVC Credentials ---\")\n",
    "gdrive_creds_b64 = user_secrets.get_secret(\"GDRIVE_CREDENTIALS_DATA_B64\")\n",
    "with open(\"gdrive-credentials.json\", \"w\") as f:\n",
    "    f.write(base64.b64decode(gdrive_creds_b64).decode())\n",
    "\n",
    "# --- 4. Run the DVC Pipeline ---\n",
    "print(\"\\n--- Pulling DVC data ---\")\n",
    "!dvc pull --force\n",
    "\n",
    "print(\"\\n--- Reproducing DVC pipeline ---\")\n",
    "!dvc repro\n",
    "\n",
    "# --- 5. Push Artifacts and Metrics ---\n",
    "print(\"\\n--- Pushing DVC artifacts ---\")\n",
    "!dvc push\n",
    "\n",
    "print(\"\\n--- Committing results back to Git ---\")\n",
    "!git add .\n",
    "!git commit -m \"CI: Automated run from Kaggle GPU\"\n",
    "!git push\n",
    "\n",
    "print(\"\\n--- Workflow Finished ---\")\n",
    "\n",
    "\n",
    "\n",
    "# Add both the notebook and its metadata file\n",
    "!git add kaggle_runner.ipynb kernel-metadata.json\n",
    "\n",
    "# Commit the changes\n",
    "!git commit -m \"feat: Add Kaggle runner notebook and metadata for CI\"\n",
    "\n",
    "# Push the commit to GitHub\n",
    "!git push"
   ]
  }
 ],
 "metadata": {
  "kaggle": {
   "accelerator": "nvidiaTeslaT4",
   "dataSources": [],
   "isGpuEnabled": true,
   "isInternetEnabled": true,
   "language": "python",
   "sourceType": "notebook"
  },
  "kernelspec": {
   "display_name": "Python 3",
   "language": "python",
   "name": "python3"
  },
  "language_info": {
   "codemirror_mode": {
    "name": "ipython",
    "version": 3
   },
   "file_extension": ".py",
   "mimetype": "text/x-python",
   "name": "python",
   "nbconvert_exporter": "python",
   "pygments_lexer": "ipython3",
   "version": "3.6.4"
  }
 },
 "nbformat": 4,
 "nbformat_minor": 4
}
