{
 "cells": [
  {
   "cell_type": "code",
   "execution_count": null,
   "metadata": {
    "_cell_guid": "b1076dfc-b9ad-4769-8c92-a6c4dae69d19",
    "_uuid": "8f2839f25d086af736a60e9eeb907d3b93b6e0e5",
    "trusted": true
   },
   "outputs": [],
   "source": [
    "# kaggle_runner.ipynb\n",
    "\n",
    "import os\n",
    "import base64\n",
    "from kaggle_secrets import UserSecretsClient\n",
    "\n",
    "# 1. Retrieve secrets\n",
    "user_secrets = UserSecretsClient()\n",
    "os.environ['GIT_DEPLOY_KEY_B64'] = user_secrets.get_secret(\"GIT_DEPLOY_KEY_B64\")\n",
    "os.environ['GDRIVE_CREDENTIALS_DATA_B64'] = user_secrets.get_secret(\"GDRIVE_CREDENTIALS_DATA_B64\")\n",
    "\n",
    "# 2. Run the master shell script\n",
    "# We make it executable first\n",
    "!chmod +x /kaggle/working/Alzheimer_classification_mlops/run_pipeline.sh\n",
    "# Then execute it\n",
    "!/kaggle/working/Alzheimer_classification_mlops/run_pipeline.sh"
   ]
  },
  {
   "cell_type": "code",
   "execution_count": null,
   "metadata": {},
   "outputs": [],
   "source": []
  }
 ],
 "metadata": {
  "kaggle": {
   "accelerator": "nvidiaTeslaT4",
   "dataSources": [],
   "isGpuEnabled": true,
   "isInternetEnabled": true,
   "language": "python",
   "sourceType": "notebook"
  },
  "kernelspec": {
   "display_name": "Python 3",
   "language": "python",
   "name": "python3"
  },
  "language_info": {
   "codemirror_mode": {
    "name": "ipython",
    "version": 3
   },
   "file_extension": ".py",
   "mimetype": "text/x-python",
   "name": "python",
   "nbconvert_exporter": "python",
   "pygments_lexer": "ipython3",
   "version": "3.6.4"
  }
 },
 "nbformat": 4,
 "nbformat_minor": 4
}
